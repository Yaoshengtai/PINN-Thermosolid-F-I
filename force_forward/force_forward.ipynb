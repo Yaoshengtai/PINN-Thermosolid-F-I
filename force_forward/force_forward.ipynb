{
 "cells": [
  {
   "cell_type": "markdown",
   "metadata": {},
   "source": [
    "### 传热正向计算"
   ]
  },
  {
   "cell_type": "markdown",
   "metadata": {},
   "source": [
    "对于稳态传热，研究具有角方向对称性的密封环，使用PINN方法，并将结果与有限元进行对比"
   ]
  },
  {
   "cell_type": "code",
   "execution_count": 1,
   "metadata": {},
   "outputs": [],
   "source": [
    "from math import pi as PI\n",
    "import torch\n",
    "from torch import nn, optim\n",
    "import numpy as np\n",
    "import pandas as pd\n",
    "import matplotlib.pyplot as plt\n",
    "import argparse\n",
    "import os\n",
    "import ast\n",
    "\n",
    "from PINN.diff import diff\n"
   ]
  },
  {
   "cell_type": "code",
   "execution_count": 4,
   "metadata": {},
   "outputs": [
    {
     "name": "stdout",
     "output_type": "stream",
     "text": [
      "Namespace(lr=3e-06, batch_size=1024, epochs=1000000, gpu=True, train_rec_size=64, train_bound_size=64, train_gen_random=True, valid_gen_random=True, weight_up=0, weight_left=2, weight_right=5, weight_bottom=2, boundary_strictness=10, network_MLP='32,32,32,32,32', check_every=200, save_dict='run1', maxf=10, impose=1, mtl=0)\n"
     ]
    }
   ],
   "source": [
    "E= 420*10**9 #杨氏模量\n",
    "mu =0.14 #泊松比\n",
    "G=E/2/(1+mu)  #剪切模量\n",
    "alpha=4*10**-6 #线膨胀系数\n",
    "beta=alpha *E /(1-2*mu) #热应力系数\n",
    "\n",
    "parser = argparse.ArgumentParser(description='PyTorch Deep Learning Training Force Forward')\n",
    "\n",
    "# 添加命令行参数\n",
    "parser.add_argument('--lr', type=float, default=0.000003, help='学习率')\n",
    "parser.add_argument('--batch_size', type=int, default=1024, help='批量大小')\n",
    "parser.add_argument('--epochs', type=int, default=1000000, help='训练轮数')\n",
    "parser.add_argument('--gpu', type=bool , default=True ,help='使用GPU进行训练')\n",
    "parser.add_argument('--train_rec_size', type=int , default=64 ,help='矩形区域内生成的点,512*512')\n",
    "parser.add_argument('--train_bound_size', type=int , default=64 ,help='边界上生成的点数')\n",
    "parser.add_argument('--train_gen_random', type=bool , default=True ,help='训练生成点是否随机')\n",
    "parser.add_argument('--valid_gen_random', type=bool , default=True ,help='验证生成点是否随机')\n",
    "parser.add_argument('--weight_up', type=int , default=0 ,help='上边界权重')\n",
    "parser.add_argument('--weight_left', type=int , default=2 ,help='左边界权重')\n",
    "parser.add_argument('--weight_right', type=int , default=5 ,help='右边界权重')\n",
    "parser.add_argument('--weight_bottom', type=int , default=2 ,help='下边界权重')\n",
    "parser.add_argument('--boundary_strictness', type=int , default=10 ,help='边界严格参数')\n",
    "parser.add_argument('--network_MLP', type=str , default=\"32,32,32,32,32\" ,help='全连接网络形状')\n",
    "parser.add_argument('--check_every', type=int , default=200 ,help='检测周期')\n",
    "parser.add_argument('--save_dict', type=str , default='run1' ,help='训练文件名')\n",
    "parser.add_argument('--maxf', type=int , default=10 ,help='端面相对温度最大值')\n",
    "parser.add_argument('--impose', type=int , default=1 ,help='是否强加Drichlet边界,1为施加')\n",
    "parser.add_argument('--mtl', type=int , default=0 ,help='是否使用多任务权重学习,1为使用')\n",
    "\n",
    "\n",
    "\n",
    "args = parser.parse_args(args=[])\n",
    "print(args)\n",
    "\n",
    "save_folder = args.save_dict + \"-image/\"\n",
    "\n",
    "# 确保文件夹存在，如果不存在则创建\n",
    "if not os.path.exists(save_folder):\n",
    "    os.makedirs(save_folder)\n",
    "\n",
    "use_gpu = args.gpu\n",
    "device = torch.device(\"mps\" if use_gpu else \"cpu\")\n",
    "if use_gpu:\n",
    "        cuda_kwargs = {'num_workers': 1,\n",
    "                       'pin_memory': True,\n",
    "                       'shuffle': True}"
   ]
  },
  {
   "cell_type": "code",
   "execution_count": 3,
   "metadata": {},
   "outputs": [],
   "source": [
    "def calculate_sigma_rr(u,w,r,z):\n",
    "    return 2*G * ((1-mu)/(1-2*mu)*diff(u,r) + mu/(1-2*mu)*(u/r+diff(w,z)))\n",
    "\n",
    "def calculate_sigma_theta(u,w,r,z):\n",
    "    return 2*G * ((1-mu)/(1-2*mu)*u/r + mu/(1-2*mu)*(diff(w,z)+diff(u,r)))\n",
    "\n",
    "def calculate_sigma_zz(u,w,r,z):\n",
    "    return 2*G * ((1-mu)/(1-2*mu)*diff(w,z) + mu/(1-2*mu)*(u/r+diff(u,r)))\n",
    "\n",
    "def calculate_tau_zr(u,w,r,z):\n",
    "    return G*(diff(w,r)+diff(u,z))\n",
    "\n",
    "def force_balance_r(u,w,r,z):\n",
    "    sigma_rr=calculate_sigma_rr(u,w,r,z)\n",
    "    sigma_theta=calculate_sigma_theta(u,w,r,z)\n",
    "    sigma_zz=calculate_sigma_zz(u,w,r,z)\n",
    "    tau_zr=calculate_tau_zr(u,w,r,z)\n",
    "\n",
    "    return diff(sigma_rr,r)+diff(tau_zr,z)+(sigma_rr+sigma_theta)/r\n",
    "\n",
    "def force_balance_z(u,w,r,z):\n",
    "    sigma_rr=calculate_sigma_rr(u,w,r,z)\n",
    "    sigma_theta=calculate_sigma_theta(u,w,r,z)\n",
    "    sigma_zz=calculate_sigma_zz(u,w,r,z)\n",
    "    tau_zr=calculate_tau_zr(u,w,r,z)\n",
    "\n",
    "    return diff(sigma_zz,z)+diff(tau_zr,r)+tau_zr/r\n"
   ]
  }
 ],
 "metadata": {
  "kernelspec": {
   "display_name": "DeepLearning",
   "language": "python",
   "name": "python3"
  },
  "language_info": {
   "codemirror_mode": {
    "name": "ipython",
    "version": 3
   },
   "file_extension": ".py",
   "mimetype": "text/x-python",
   "name": "python",
   "nbconvert_exporter": "python",
   "pygments_lexer": "ipython3",
   "version": "3.11.5"
  }
 },
 "nbformat": 4,
 "nbformat_minor": 2
}
